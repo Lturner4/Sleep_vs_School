{
 "cells": [
  {
   "cell_type": "markdown",
   "metadata": {},
   "source": [
    "# Sleep vs. School"
   ]
  },
  {
   "cell_type": "markdown",
   "metadata": {},
   "source": [
    "Lucy Turner\n",
    "\n",
    "Quantified Self: Final Project for Gonzaga CPSC 222, Spring 2022"
   ]
  },
  {
   "cell_type": "markdown",
   "metadata": {},
   "source": [
    "## Introduction"
   ]
  },
  {
   "cell_type": "markdown",
   "metadata": {},
   "source": [
    "For the first dataset, we will be working with health data from a [Whoop fitness tracker](https://www.whoop.com)."
   ]
  },
  {
   "cell_type": "markdown",
   "metadata": {},
   "source": [
    "The Whoop health dataset contains the following attributes: \n",
    "* date\n",
    "* Strain Score\n",
    "* Avg Heart Rate - Beats / min\n",
    "* Heart Rate Variability - Milliseconds\n",
    "* Max Heart Rate - Beats / min\n",
    "* Resting Heart Rate - Beats / min\n",
    "* Total Calories Burned - Calories\n",
    "* Recovery Score - %\n",
    "* Deep Sleep - Hours\n",
    "* Deep Sleep Percent - %\n",
    "* Light Sleep - Hours\n",
    "* Light Sleep Percent - %\n",
    "* Nap Count - Naps\n",
    "* Nap Sleep - Hours\n",
    "* REM Sleep - Hours\n",
    "* REM Sleep Percent - %\n",
    "* Sleep End Time - 24-hour time\n",
    "* Sleep Score - %\n",
    "* Sleep Start Time - 24-hour time\n",
    "* Time Awake - Hours\n",
    "* Time in Bed - Hours\n",
    "* Total Sleep - Hours\n",
    "* Sleep Consistency - %\n",
    "* Sleep Cycles - Cycles\n",
    "* Sleep Disturbances - Disturbances\n",
    "* Sleep Disturbances / Hour - Disturbances\n",
    "* Sleep Disturbances Duration - Minutes\n",
    "* Sleep Onset Latency - Minutes\n",
    "* Sleep Respiratory Rate - Breaths / min\n",
    "* Time Asleep Percent - %\n",
    "* Time Awake Percent - %\n",
    "\n",
    "The attributes fall under the following categories:  \n",
    "Activity,Heart,Heart,Heart,Heart,Metabolism,Recovery,Sleep Length,Sleep Length,Sleep Length,Sleep Length,Sleep Length,Sleep Length,Sleep Length,Sleep Length,Sleep Length,Sleep Length,Sleep Length,Sleep Length,Sleep Length,Sleep Length,Sleep Quality,Sleep Quality,Sleep Quality,Sleep Quality,Sleep Quality,Sleep Quality,Sleep Quality,Sleep Quality,Sleep Quality"
   ]
  },
  {
   "cell_type": "markdown",
   "metadata": {},
   "source": [
    "The Assignments dataset contains:\n",
    "* Date\n",
    "* Assignments\n",
    "\n",
    "From this data, once joined with the health data, I will create the additional columns \"Number of Assignments\", \"Day of the Week\", and \"Weekday\""
   ]
  },
  {
   "cell_type": "markdown",
   "metadata": {},
   "source": [
    "## Data Analysis"
   ]
  },
  {
   "cell_type": "markdown",
   "metadata": {},
   "source": [
    "### Cleaning"
   ]
  },
  {
   "cell_type": "markdown",
   "metadata": {},
   "source": [
    "The first step was to load the data from both csv files into [pandas DataFrame objects](https://pandas.pydata.org/docs/reference/api/pandas.DataFrame.html?highlight=dataframe#pandas.DataFrame). We did this using [pandas.read_csv](https://pandas.pydata.org/docs/reference/api/pandas.read_csv.html?highlight=read_csv#pandas.read_csv)"
   ]
  },
  {
   "cell_type": "code",
   "execution_count": 24,
   "metadata": {},
   "outputs": [],
   "source": [
    "import pandas as pd\n",
    "import utils as u\n",
    "whoop_df = pd.read_csv('raw_health_data.csv', index_col=0)\n",
    "assignments_df = pd.read_csv('assignments_by_date.csv')"
   ]
  },
  {
   "cell_type": "markdown",
   "metadata": {},
   "source": [
    "##### Woop Data Cleaning"
   ]
  },
  {
   "cell_type": "markdown",
   "metadata": {},
   "source": [
    "To clean this data, we will use DataFrame method [pandas.DataFrame.interpolate](https://pandas.pydata.org/docs/reference/api/pandas.DataFrame.interpolate.html?highlight=interpolate#pandas.DataFrame.interpolate) to fill middle values that are missing, or NaN. We used `ffill()` and `bfill()`, forwards and backwards fill methods of [pandas.DataFrame.fillna](https://pandas.pydata.org/docs/reference/api/pandas.DataFrame.fillna.html#pandas.DataFrame.fillna) to ensure that no end values are missed."
   ]
  },
  {
   "cell_type": "code",
   "execution_count": 25,
   "metadata": {},
   "outputs": [],
   "source": [
    "whoop_df.interpolate(method='linear', inplace=True)\n",
    "whoop_df.fillna(method='ffill', inplace=True)\n",
    "whoop_df.fillna(method='bfill', inplace=True)"
   ]
  },
  {
   "cell_type": "markdown",
   "metadata": {},
   "source": [
    "Looking at the resulting DataFrame, we decided that we wanted to focus only on sleep data in connection to assignments for the semester, so for this project we will only be working with sleep and assignment data from 1/11/22."
   ]
  },
  {
   "cell_type": "markdown",
   "metadata": {},
   "source": [
    "We will form a new DataFrame that only includes the columns in `whoop_df` that we want to continue working with. \n",
    "\n",
    "These columns are:\n",
    "* Deep Sleep - Hours\n",
    "* Deep Sleep Percent - %\n",
    "* Light Sleep - Hours\n",
    "* Light Sleep Percent - %\n",
    "* Nap Count - Naps\n",
    "* Nap Sleep - Hours\n",
    "* REM Sleep - Hours\n",
    "* REM Sleep Percent - %\n",
    "\n",
    "We call `.loc['2022-01-11':]` on the resulting DataFrame to obtain the slice of data in the correct date range.\n",
    "\n",
    "Finally, we convert the index column to a pandas datetime object using [pandas.to_datetime](https://pandas.pydata.org/docs/reference/api/pandas.to_datetime.html?highlight=to_datetime#pandas.to_datetime)."
   ]
  },
  {
   "cell_type": "code",
   "execution_count": 26,
   "metadata": {},
   "outputs": [
    {
     "name": "stdout",
     "output_type": "stream",
     "text": [
      "            Deep Sleep  Deep Sleep Percent  Light Sleep  Light Sleep Percent  \\\n",
      "date                                                                           \n",
      "2022-01-11    1.093341           15.186658     5.727659            79.557996   \n",
      "2022-01-12    0.916865           14.871207     3.689389            59.840494   \n",
      "2022-01-13    0.965797           15.339545     4.246074            67.439501   \n",
      "2022-01-14    1.497095           21.034635     4.390751            61.691359   \n",
      "2022-01-15    0.748144           12.801974     4.380313            74.954344   \n",
      "2022-01-16    0.803762           11.334004     4.744484            66.902886   \n",
      "2022-01-17    1.159650           18.815634     3.119309            50.611646   \n",
      "2022-01-18    0.916866           18.131365     2.982159            58.973290   \n",
      "2022-01-19    0.153211            2.845344     4.644224            86.249883   \n",
      "2022-01-20    1.494956           25.020212     2.395233            40.087628   \n",
      "2022-01-21    0.900558           14.395654     3.835107            61.305227   \n",
      "2022-01-22    1.785603           21.789354     4.938616            60.264947   \n",
      "2022-01-23    1.586129           21.361921     4.486461            60.423474   \n",
      "2022-01-24    0.945996           19.437536     2.711760            55.719001   \n",
      "2022-01-25    1.333455           24.817172     2.546309            47.389806   \n",
      "2022-01-26    1.174625           24.269978     2.403518            49.661242   \n",
      "2022-01-27    1.093610           23.532847     3.079754            66.271708   \n",
      "2022-01-28    0.626753           10.085644     4.196353            67.527332   \n",
      "2022-01-29    1.246292           20.975763     3.682441            61.977461   \n",
      "2022-01-30    1.037193           18.049660     3.409174            59.624399   \n",
      "2022-01-31    0.828094           15.123557     3.135906            57.271337   \n",
      "2022-02-01    1.270086           21.036371     3.312915            54.871646   \n",
      "2022-02-02    0.578346           11.456387     3.577091            70.858185   \n",
      "2022-02-03    0.899752           16.814921     3.415056            63.821908   \n",
      "2022-02-04    0.941999           16.471071     3.208621            56.103463   \n",
      "2022-02-05    0.940128           23.578368     2.308332            57.892847   \n",
      "2022-02-06    1.205912           17.246020     4.363198            62.399084   \n",
      "2022-02-07    1.453232           25.542673     2.459684            43.232527   \n",
      "2022-02-08    1.143072           20.327121     3.177607            56.507031   \n",
      "2022-02-09    0.811252           20.062270     2.332131            57.673616   \n",
      "2022-02-16    1.100564           19.188062     3.803427            63.588273   \n",
      "2022-02-17    1.389877           18.313854     5.274723            69.502929   \n",
      "2022-02-18    1.598970           24.411196     3.335376            50.920613   \n",
      "2022-02-19    1.777047           23.380052     3.788054            49.838231   \n",
      "2022-02-20    1.447091           21.004423     3.673086            53.314573   \n",
      "2022-03-02    1.542018           24.853546     3.086160            49.741329   \n",
      "2022-03-03    1.230243           18.412113     4.414271            66.065035   \n",
      "2022-03-04    0.738788           25.820125     1.535863            53.677368   \n",
      "2022-03-05    2.083472           24.308241     4.943959            57.682055   \n",
      "2022-03-08    1.912336           24.778181     4.623908            59.912070   \n",
      "2022-03-09    1.784001           20.496460     5.118031            58.801282   \n",
      "2022-03-10    1.864753           21.863501     5.137821            60.238937   \n",
      "2022-03-11    1.849229           24.037132     4.967231            64.566360   \n",
      "2022-03-12    1.718758           25.180246     2.943920            43.129179   \n",
      "2022-03-13    0.698681           23.479234     1.415806            47.578295   \n",
      "2022-03-14    0.683706           28.649930     1.324623            55.506840   \n",
      "\n",
      "            Nap Count  Nap Sleep  REM Sleep  REM Sleep Percent  Total Sleep  \n",
      "date                                                                         \n",
      "2022-01-11        1.0   2.417190   0.378351           5.255346     7.199351  \n",
      "2022-01-12        1.0   2.407135   1.559118          25.288299     6.165372  \n",
      "2022-01-13        1.0   2.397079   1.084253          17.220954     6.296123  \n",
      "2022-01-14        1.0   2.387024   1.229441          17.274006     7.117287  \n",
      "2022-01-15        1.0   2.376968   0.715518          12.243682     5.843975  \n",
      "2022-01-16        1.0   2.366913   1.543352          21.763110     7.091598  \n",
      "2022-01-17        1.0   2.356857   1.884265          30.572720     6.163224  \n",
      "2022-01-18        1.0   2.346802   1.157771          22.895345     5.056796  \n",
      "2022-01-19        1.0   2.336746   0.587180          10.904773     5.384615  \n",
      "2022-01-20        1.0   2.326691   2.084804          34.892160     5.974994  \n",
      "2022-01-21        1.0   2.316635   1.520094          24.299119     6.255759  \n",
      "2022-01-22        1.0   2.306580   1.470621          17.945699     8.194840  \n",
      "2022-01-23        1.0   2.296524   1.352440          18.214605     7.425031  \n",
      "2022-01-24        1.0   2.286469   1.209094          24.843463     4.866849  \n",
      "2022-01-25        1.0   2.276413   1.493351          27.793022     5.373115  \n",
      "2022-01-26        1.0   2.266357   1.261684          26.068780     4.839827  \n",
      "2022-01-27        1.0   2.202697   0.473799          10.195444     4.647163  \n",
      "2022-01-28        1.0   2.139037   1.391198          22.387024     6.214303  \n",
      "2022-01-29        1.0   2.075376   1.012848          17.046777     5.941581  \n",
      "2022-01-30        1.0   2.011716   1.262186          22.325941     5.708553  \n",
      "2022-01-31        1.0   1.948056   1.511524          27.605105     5.475525  \n",
      "2022-02-01        1.0   1.884395   1.454571          24.091982     6.037572  \n",
      "2022-02-02        1.0   1.820735   0.892803          17.685429     5.048239  \n",
      "2022-02-03        1.0   1.757075   1.036107          19.363171     5.350916  \n",
      "2022-02-04        1.0   1.693414   1.568494          27.425466     5.719115  \n",
      "2022-02-05        1.0   1.629754   0.738789          18.528785     3.987249  \n",
      "2022-02-06        1.0   1.566093   1.423297          20.354896     6.992407  \n",
      "2022-02-07        1.0   1.502433   1.776513          31.224800     5.689429  \n",
      "2022-02-08        1.0   1.531605   1.302704          23.165848     5.623383  \n",
      "2022-02-09        1.0   1.560776   0.900287          22.264114     4.043670  \n",
      "2022-02-16        1.0   1.589948   0.912448          17.223665     5.816439  \n",
      "2022-02-17        1.0   1.619119   0.924610          12.183216     7.589209  \n",
      "2022-02-18        1.0   1.648291   1.615803          24.668191     6.550149  \n",
      "2022-02-19        1.0   1.677462   2.035598          26.781717     7.600699  \n",
      "2022-02-20        1.0   1.706634   1.769282          25.681004     6.889459  \n",
      "2022-03-02        1.0   1.735805   1.576240          25.405125     6.204419  \n",
      "2022-03-03        1.0   1.764977   1.037191          15.522852     6.681705  \n",
      "2022-03-04        1.0   1.794148   0.586635          20.502507     2.861286  \n",
      "2022-03-05        1.0   1.794148   1.543621          18.009704     8.571052  \n",
      "2022-03-08        1.0   1.794148   1.181579          15.309749     7.717824  \n",
      "2022-03-09        1.0   1.794148   1.801913          20.702258     8.703945  \n",
      "2022-03-10        1.0   1.794148   1.526496          17.897562     8.529070  \n",
      "2022-03-11        1.0   1.794148   0.876758          11.396508     7.693219  \n",
      "2022-03-12        1.0   1.794148   2.163142          31.690575     6.825820  \n",
      "2022-03-13        1.0   1.794148   0.861252          28.942472     2.975738  \n",
      "2022-03-14        1.0   1.794148   0.378085          15.843230     2.386414  \n"
     ]
    }
   ],
   "source": [
    "sleep_hw_df = whoop_df.drop(columns=['Strain Score', 'Avg Heart Rate', 'Heart Rate Variability', 'Max Heart Rate', 'Resting Heart Rate', 'Total Calories Burned',\n",
    "       'Recovery Score', 'Sleep End Time', 'Sleep Score', 'Sleep Start Time', 'Time Awake', 'Time in Bed',\n",
    "       'Sleep Consistency', 'Sleep Cycles', 'Sleep Disturbances', 'Sleep Disturbances / Hour', 'Sleep Disturbances Duration', \n",
    "       'Sleep Onset Latency', 'Sleep Respiratory Rate', 'Time Asleep Percent', 'Time Awake Percent']).loc['2022-01-11':]\n",
    "sleep_hw_df.index = pd.to_datetime(sleep_hw_df.index)\n",
    "print(sleep_hw_df)"
   ]
  },
  {
   "cell_type": "markdown",
   "metadata": {},
   "source": [
    "##### Assignments Data Cleaning"
   ]
  },
  {
   "cell_type": "markdown",
   "metadata": {},
   "source": [
    "To clean the Assignments data, we converted the \"Date\" column to a pandas datetime object using `pd.to_datetime()`. See to_datetime documentation [here](https://pandas.pydata.org/docs/reference/api/pandas.to_datetime.html). The resulting DataFrame has a numerical index because the 'Date' column contains duplicate dates on days where there are multiple assignments due. The \"Assignments\" column contained the name of every assignment that was due, which is not helpful in a classification model. To fix these issues and add a \"Number of Assignments\" column instead of a string assignment name column, we created a dictionary containing the number of assignments by date, and converted this dictionary to a new DataFrame. "
   ]
  },
  {
   "cell_type": "code",
   "execution_count": 27,
   "metadata": {},
   "outputs": [
    {
     "name": "stdout",
     "output_type": "stream",
     "text": [
      "            Number of Assignments\n",
      "2022-01-11                      1\n",
      "2022-01-13                      1\n",
      "2022-01-16                      1\n",
      "2022-01-18                      3\n",
      "2022-01-20                      3\n",
      "2022-01-23                      1\n",
      "2022-01-24                      1\n",
      "2022-01-25                      3\n",
      "2022-01-27                      2\n",
      "2022-01-30                      1\n",
      "2022-01-31                      1\n",
      "2022-02-01                      3\n",
      "2022-02-03                      2\n",
      "2022-02-06                      1\n",
      "2022-02-07                      1\n",
      "2022-02-08                      3\n",
      "2022-02-09                      1\n",
      "2022-02-10                      2\n",
      "2022-02-14                      1\n",
      "2022-02-15                      4\n",
      "2022-02-17                      2\n",
      "2022-02-21                      1\n",
      "2022-02-22                      4\n",
      "2022-02-24                      2\n",
      "2022-02-27                      1\n",
      "2022-02-28                      1\n",
      "2022-03-01                      3\n",
      "2022-03-02                      1\n",
      "2022-03-03                      2\n",
      "2022-03-08                      1\n",
      "2022-03-14                      1\n",
      "2022-03-15                      3\n",
      "2022-03-17                      1\n",
      "2022-03-18                      1\n",
      "2022-03-20                      1\n",
      "2022-03-21                      1\n",
      "2022-03-22                      3\n",
      "2022-03-23                      1\n",
      "2022-03-24                      2\n",
      "2022-03-27                      1\n",
      "2022-03-29                      2\n",
      "2022-03-31                      2\n",
      "2022-04-03                      1\n",
      "2022-04-04                      1\n",
      "2022-04-05                      3\n",
      "2022-04-06                      1\n",
      "2022-04-07                      1\n",
      "2022-04-11                      1\n",
      "2022-04-12                      3\n",
      "2022-04-14                      2\n",
      "2022-04-19                      4\n",
      "2022-04-21                      1\n",
      "2022-04-24                      1\n",
      "2022-04-26                      3\n",
      "2022-04-27                      1\n",
      "2022-04-28                      2\n",
      "2022-05-01                      1\n",
      "2022-05-03                      2\n",
      "2022-05-04                      1\n",
      "2022-05-05                      1\n"
     ]
    }
   ],
   "source": [
    "assignments_df['Date'] = pd.to_datetime(assignments_df['Date'])\n",
    "num_assignments = {}\n",
    "for date, dates in assignments_df.groupby('Date'):\n",
    "    num_assignments[date] = dates['Assignments'].count()\n",
    "num_ass_df = pd.DataFrame.from_dict(num_assignments, orient='index', columns=['Number of Assignments'])\n",
    "print(num_ass_df)"
   ]
  },
  {
   "cell_type": "markdown",
   "metadata": {},
   "source": [
    "#### Merging"
   ]
  },
  {
   "cell_type": "markdown",
   "metadata": {},
   "source": [
    "To merge the two datasets, we used the [pandas.DataFrame.join()](https://pandas.pydata.org/docs/reference/api/pandas.DataFrame.join.html) method. We chose to use `.join()` because it runs a left join by default. A left join is appropriate here because we wanted to add columns to our original sleep DataFrame for the assignments data, without losing any dates. We call `.fillna(0)` on the resulting DataFrame to ensure that dates with no assignments due are appropriately updated to show 0 assignments due. "
   ]
  },
  {
   "cell_type": "code",
   "execution_count": 28,
   "metadata": {},
   "outputs": [],
   "source": [
    "sleep_hw_df = sleep_hw_df.join(num_ass_df)\n",
    "sleep_hw_df['Number of Assignments'] = sleep_hw_df['Number of Assignments'].fillna(0)"
   ]
  },
  {
   "cell_type": "markdown",
   "metadata": {},
   "source": [
    "Finally, we added \"Day of the Week\" and \"Weekday\" columns to easily track the day of the week each date is representing and whether or not that day is a weekday (1 is weekday, 0 is weekend). We used the `weekday()` method from python's [datetime class](https://docs.python.org/3/library/datetime.html) to easily set up a \"Day of Week\" column."
   ]
  },
  {
   "cell_type": "code",
   "execution_count": 29,
   "metadata": {},
   "outputs": [
    {
     "name": "stdout",
     "output_type": "stream",
     "text": [
      "            Deep Sleep  Deep Sleep Percent  Light Sleep  Light Sleep Percent  \\\n",
      "date                                                                           \n",
      "2022-01-11    1.093341           15.186658     5.727659            79.557996   \n",
      "2022-01-12    0.916865           14.871207     3.689389            59.840494   \n",
      "2022-01-13    0.965797           15.339545     4.246074            67.439501   \n",
      "2022-01-14    1.497095           21.034635     4.390751            61.691359   \n",
      "2022-01-15    0.748144           12.801974     4.380313            74.954344   \n",
      "2022-01-16    0.803762           11.334004     4.744484            66.902886   \n",
      "2022-01-17    1.159650           18.815634     3.119309            50.611646   \n",
      "2022-01-18    0.916866           18.131365     2.982159            58.973290   \n",
      "2022-01-19    0.153211            2.845344     4.644224            86.249883   \n",
      "2022-01-20    1.494956           25.020212     2.395233            40.087628   \n",
      "2022-01-21    0.900558           14.395654     3.835107            61.305227   \n",
      "2022-01-22    1.785603           21.789354     4.938616            60.264947   \n",
      "2022-01-23    1.586129           21.361921     4.486461            60.423474   \n",
      "2022-01-24    0.945996           19.437536     2.711760            55.719001   \n",
      "2022-01-25    1.333455           24.817172     2.546309            47.389806   \n",
      "2022-01-26    1.174625           24.269978     2.403518            49.661242   \n",
      "2022-01-27    1.093610           23.532847     3.079754            66.271708   \n",
      "2022-01-28    0.626753           10.085644     4.196353            67.527332   \n",
      "2022-01-29    1.246292           20.975763     3.682441            61.977461   \n",
      "2022-01-30    1.037193           18.049660     3.409174            59.624399   \n",
      "2022-01-31    0.828094           15.123557     3.135906            57.271337   \n",
      "2022-02-01    1.270086           21.036371     3.312915            54.871646   \n",
      "2022-02-02    0.578346           11.456387     3.577091            70.858185   \n",
      "2022-02-03    0.899752           16.814921     3.415056            63.821908   \n",
      "2022-02-04    0.941999           16.471071     3.208621            56.103463   \n",
      "2022-02-05    0.940128           23.578368     2.308332            57.892847   \n",
      "2022-02-06    1.205912           17.246020     4.363198            62.399084   \n",
      "2022-02-07    1.453232           25.542673     2.459684            43.232527   \n",
      "2022-02-08    1.143072           20.327121     3.177607            56.507031   \n",
      "2022-02-09    0.811252           20.062270     2.332131            57.673616   \n",
      "2022-02-16    1.100564           19.188062     3.803427            63.588273   \n",
      "2022-02-17    1.389877           18.313854     5.274723            69.502929   \n",
      "2022-02-18    1.598970           24.411196     3.335376            50.920613   \n",
      "2022-02-19    1.777047           23.380052     3.788054            49.838231   \n",
      "2022-02-20    1.447091           21.004423     3.673086            53.314573   \n",
      "2022-03-02    1.542018           24.853546     3.086160            49.741329   \n",
      "2022-03-03    1.230243           18.412113     4.414271            66.065035   \n",
      "2022-03-04    0.738788           25.820125     1.535863            53.677368   \n",
      "2022-03-05    2.083472           24.308241     4.943959            57.682055   \n",
      "2022-03-08    1.912336           24.778181     4.623908            59.912070   \n",
      "2022-03-09    1.784001           20.496460     5.118031            58.801282   \n",
      "2022-03-10    1.864753           21.863501     5.137821            60.238937   \n",
      "2022-03-11    1.849229           24.037132     4.967231            64.566360   \n",
      "2022-03-12    1.718758           25.180246     2.943920            43.129179   \n",
      "2022-03-13    0.698681           23.479234     1.415806            47.578295   \n",
      "2022-03-14    0.683706           28.649930     1.324623            55.506840   \n",
      "\n",
      "            Nap Count  Nap Sleep  REM Sleep  REM Sleep Percent  Total Sleep  \\\n",
      "date                                                                          \n",
      "2022-01-11        1.0   2.417190   0.378351           5.255346     7.199351   \n",
      "2022-01-12        1.0   2.407135   1.559118          25.288299     6.165372   \n",
      "2022-01-13        1.0   2.397079   1.084253          17.220954     6.296123   \n",
      "2022-01-14        1.0   2.387024   1.229441          17.274006     7.117287   \n",
      "2022-01-15        1.0   2.376968   0.715518          12.243682     5.843975   \n",
      "2022-01-16        1.0   2.366913   1.543352          21.763110     7.091598   \n",
      "2022-01-17        1.0   2.356857   1.884265          30.572720     6.163224   \n",
      "2022-01-18        1.0   2.346802   1.157771          22.895345     5.056796   \n",
      "2022-01-19        1.0   2.336746   0.587180          10.904773     5.384615   \n",
      "2022-01-20        1.0   2.326691   2.084804          34.892160     5.974994   \n",
      "2022-01-21        1.0   2.316635   1.520094          24.299119     6.255759   \n",
      "2022-01-22        1.0   2.306580   1.470621          17.945699     8.194840   \n",
      "2022-01-23        1.0   2.296524   1.352440          18.214605     7.425031   \n",
      "2022-01-24        1.0   2.286469   1.209094          24.843463     4.866849   \n",
      "2022-01-25        1.0   2.276413   1.493351          27.793022     5.373115   \n",
      "2022-01-26        1.0   2.266357   1.261684          26.068780     4.839827   \n",
      "2022-01-27        1.0   2.202697   0.473799          10.195444     4.647163   \n",
      "2022-01-28        1.0   2.139037   1.391198          22.387024     6.214303   \n",
      "2022-01-29        1.0   2.075376   1.012848          17.046777     5.941581   \n",
      "2022-01-30        1.0   2.011716   1.262186          22.325941     5.708553   \n",
      "2022-01-31        1.0   1.948056   1.511524          27.605105     5.475525   \n",
      "2022-02-01        1.0   1.884395   1.454571          24.091982     6.037572   \n",
      "2022-02-02        1.0   1.820735   0.892803          17.685429     5.048239   \n",
      "2022-02-03        1.0   1.757075   1.036107          19.363171     5.350916   \n",
      "2022-02-04        1.0   1.693414   1.568494          27.425466     5.719115   \n",
      "2022-02-05        1.0   1.629754   0.738789          18.528785     3.987249   \n",
      "2022-02-06        1.0   1.566093   1.423297          20.354896     6.992407   \n",
      "2022-02-07        1.0   1.502433   1.776513          31.224800     5.689429   \n",
      "2022-02-08        1.0   1.531605   1.302704          23.165848     5.623383   \n",
      "2022-02-09        1.0   1.560776   0.900287          22.264114     4.043670   \n",
      "2022-02-16        1.0   1.589948   0.912448          17.223665     5.816439   \n",
      "2022-02-17        1.0   1.619119   0.924610          12.183216     7.589209   \n",
      "2022-02-18        1.0   1.648291   1.615803          24.668191     6.550149   \n",
      "2022-02-19        1.0   1.677462   2.035598          26.781717     7.600699   \n",
      "2022-02-20        1.0   1.706634   1.769282          25.681004     6.889459   \n",
      "2022-03-02        1.0   1.735805   1.576240          25.405125     6.204419   \n",
      "2022-03-03        1.0   1.764977   1.037191          15.522852     6.681705   \n",
      "2022-03-04        1.0   1.794148   0.586635          20.502507     2.861286   \n",
      "2022-03-05        1.0   1.794148   1.543621          18.009704     8.571052   \n",
      "2022-03-08        1.0   1.794148   1.181579          15.309749     7.717824   \n",
      "2022-03-09        1.0   1.794148   1.801913          20.702258     8.703945   \n",
      "2022-03-10        1.0   1.794148   1.526496          17.897562     8.529070   \n",
      "2022-03-11        1.0   1.794148   0.876758          11.396508     7.693219   \n",
      "2022-03-12        1.0   1.794148   2.163142          31.690575     6.825820   \n",
      "2022-03-13        1.0   1.794148   0.861252          28.942472     2.975738   \n",
      "2022-03-14        1.0   1.794148   0.378085          15.843230     2.386414   \n",
      "\n",
      "            Number of Assignments  Day of Week  Weekday  \n",
      "date                                                     \n",
      "2022-01-11                    1.0            1        1  \n",
      "2022-01-12                    0.0            2        1  \n",
      "2022-01-13                    1.0            3        1  \n",
      "2022-01-14                    0.0            4        1  \n",
      "2022-01-15                    0.0            5        0  \n",
      "2022-01-16                    1.0            6        0  \n",
      "2022-01-17                    0.0            0        1  \n",
      "2022-01-18                    3.0            1        1  \n",
      "2022-01-19                    0.0            2        1  \n",
      "2022-01-20                    3.0            3        1  \n",
      "2022-01-21                    0.0            4        1  \n",
      "2022-01-22                    0.0            5        0  \n",
      "2022-01-23                    1.0            6        0  \n",
      "2022-01-24                    1.0            0        1  \n",
      "2022-01-25                    3.0            1        1  \n",
      "2022-01-26                    0.0            2        1  \n",
      "2022-01-27                    2.0            3        1  \n",
      "2022-01-28                    0.0            4        1  \n",
      "2022-01-29                    0.0            5        0  \n",
      "2022-01-30                    1.0            6        0  \n",
      "2022-01-31                    1.0            0        1  \n",
      "2022-02-01                    3.0            1        1  \n",
      "2022-02-02                    0.0            2        1  \n",
      "2022-02-03                    2.0            3        1  \n",
      "2022-02-04                    0.0            4        1  \n",
      "2022-02-05                    0.0            5        0  \n",
      "2022-02-06                    1.0            6        0  \n",
      "2022-02-07                    1.0            0        1  \n",
      "2022-02-08                    3.0            1        1  \n",
      "2022-02-09                    1.0            2        1  \n",
      "2022-02-16                    0.0            2        1  \n",
      "2022-02-17                    2.0            3        1  \n",
      "2022-02-18                    0.0            4        1  \n",
      "2022-02-19                    0.0            5        0  \n",
      "2022-02-20                    0.0            6        0  \n",
      "2022-03-02                    1.0            2        1  \n",
      "2022-03-03                    2.0            3        1  \n",
      "2022-03-04                    0.0            4        1  \n",
      "2022-03-05                    0.0            5        0  \n",
      "2022-03-08                    1.0            1        1  \n",
      "2022-03-09                    0.0            2        1  \n",
      "2022-03-10                    0.0            3        1  \n",
      "2022-03-11                    0.0            4        1  \n",
      "2022-03-12                    0.0            5        0  \n",
      "2022-03-13                    0.0            6        0  \n",
      "2022-03-14                    1.0            0        1  \n"
     ]
    }
   ],
   "source": [
    "sleep_hw_df['Day of Week'] = [date.weekday() for date in sleep_hw_df.index]\n",
    "sleep_hw_df['Weekday'] = [0 if day > 4 else 1 for day in sleep_hw_df['Day of Week']]\n",
    "sleep_hw_df.to_csv('sleep_assignment_data.csv')\n",
    "print(sleep_hw_df)"
   ]
  },
  {
   "cell_type": "markdown",
   "metadata": {},
   "source": [
    "#### Challenges"
   ]
  },
  {
   "cell_type": "markdown",
   "metadata": {},
   "source": [
    "The largest challenges we faced when cleaning and merging this dataset were working with missing values in the Whoop data, and working with the datetime objects in the Assignments data to come up with a table that could be logically joined with the Whoop data. See [Whoop Data Cleaning](#woop-data-cleaning) and [Assignments Data Cleaning](#assignments-data-cleaning) for documentation of challenge solutions."
   ]
  },
  {
   "cell_type": "markdown",
   "metadata": {},
   "source": [
    "#### Data Aggregation Techniques"
   ]
  },
  {
   "cell_type": "markdown",
   "metadata": {},
   "source": [
    "We used the [pandas.DataFrame.join()](https://pandas.pydata.org/docs/reference/api/pandas.DataFrame.join.html) method. We chose to use `.join()` because it runs a left join by default. A left join is appropriate here because we wanted to add columns to our original sleep DataFrame for the assignments data, without losing any dates. See [Merging](#merging) for more information."
   ]
  },
  {
   "cell_type": "markdown",
   "metadata": {},
   "source": [
    "### Visualizations"
   ]
  },
  {
   "cell_type": "markdown",
   "metadata": {},
   "source": []
  },
  {
   "cell_type": "markdown",
   "metadata": {},
   "source": [
    "The following visualization shows the breakdown of average hours of sleep per night by category. The categories are:\n",
    "* Nap sleep\n",
    "* Light Sleep\n",
    "* Deep Sleep\n",
    "* Rem Sleep\n",
    "\n",
    "After analyzing this visualization, we concluded that for further data analysis Deep and Rem sleep should be combined into a singular category."
   ]
  },
  {
   "cell_type": "code",
   "execution_count": 30,
   "metadata": {},
   "outputs": [
    {
     "data": {
      "image/png": "[encoded data removed]",
      "text/plain": [
       "<Figure size 662.4x360 with 1 Axes>"
      ]
     },
     "metadata": {
      "needs_background": "light"
     },
     "output_type": "display_data"
    }
   ],
   "source": [
    "nap_avg = sleep_hw_df['Nap Sleep'].mean()\n",
    "light_avg = sleep_hw_df['Light Sleep'].mean()\n",
    "deep_avg = sleep_hw_df['Deep Sleep'].mean()\n",
    "rem_avg = sleep_hw_df['REM Sleep'].mean()\n",
    "sleep_categories = ['Nap Sleep (Hours)', 'Light Sleep (Hours)', 'Deep Sleep (Hours)', 'REM Sleep (Hours)']\n",
    "results = [nap_avg, light_avg, deep_avg, rem_avg]\n",
    "\n",
    "u.banded_bars(categories=sleep_categories, cat_label='Average Sleep', results=results)"
   ]
  },
  {
   "cell_type": "markdown",
   "metadata": {},
   "source": []
  },
  {
   "cell_type": "code",
   "execution_count": 31,
   "metadata": {},
   "outputs": [
    {
     "data": {
      "image/png": "[encoded data removed]",
      "text/plain": [
       "<Figure size 432x288 with 1 Axes>"
      ]
     },
     "metadata": {
      "needs_background": "light"
     },
     "output_type": "display_data"
    }
   ],
   "source": [
    "sleep_ser = sleep_hw_df['Total Sleep']\n",
    "u.box_and_whisker(sleep_ser, y_label='Time (hours)', x_label='Total sleep', title='Total Sleep per Night in Hours')"
   ]
  },
  {
   "cell_type": "markdown",
   "metadata": {},
   "source": [
    "This graph represents total sleep frequencies. "
   ]
  },
  {
   "cell_type": "code",
   "execution_count": 32,
   "metadata": {},
   "outputs": [
    {
     "data": {
      "image/png": "[encoded data removed]",
      "text/plain": [
       "<Figure size 504x360 with 1 Axes>"
      ]
     },
     "metadata": {
      "needs_background": "light"
     },
     "output_type": "display_data"
    }
   ],
   "source": [
    "u.hist_trend(sleep_ser, x_label='Total Sleep (hours)', y_label='Frequency', title='Total Sleep Frequencies')"
   ]
  },
  {
   "cell_type": "markdown",
   "metadata": {},
   "source": [
    "This is the same visualization from above for a period of a year instead of just the semester. We see that the mean is considerably higher, indicating a decline in sleep once the semester began. "
   ]
  },
  {
   "cell_type": "code",
   "execution_count": 33,
   "metadata": {},
   "outputs": [
    {
     "data": {
      "image/png": "[encoded data removed]",
      "text/plain": [
       "<Figure size 504x360 with 1 Axes>"
      ]
     },
     "metadata": {
      "needs_background": "light"
     },
     "output_type": "display_data"
    }
   ],
   "source": [
    "total_sleep_ser = whoop_df['Total Sleep']\n",
    "u.hist_trend(total_sleep_ser, x_label='Total Sleep (hours)', y_label='Frequency', title='Total Sleep Frequencies')"
   ]
  },
  {
   "cell_type": "markdown",
   "metadata": {},
   "source": []
  },
  {
   "cell_type": "code",
   "execution_count": 34,
   "metadata": {},
   "outputs": [
    {
     "data": {
      "text/plain": [
       "<matplotlib.lines.Line2D at 0x13b3fa830>"
      ]
     },
     "execution_count": 34,
     "metadata": {},
     "output_type": "execute_result"
    },
    {
     "data": {
      "image/png": "[encoded data removed]",
      "text/plain": [
       "<Figure size 864x576 with 1 Axes>"
      ]
     },
     "metadata": {
      "needs_background": "light"
     },
     "output_type": "display_data"
    }
   ],
   "source": [
    "import matplotlib.pyplot as plt\n",
    "fig, ax = plt.subplots(figsize=(12, 8))\n",
    "ax.plot(sleep_ser, color='red', lw=2)\n",
    "ax.axhline(y=7, color='green', lw=5)"
   ]
  },
  {
   "cell_type": "markdown",
   "metadata": {},
   "source": [
    "### Hypothesis Testing"
   ]
  },
  {
   "cell_type": "markdown",
   "metadata": {},
   "source": [
    "We performed the following hypothesis tests:\n",
    "1. first\n",
    "2. second\n",
    "3. third"
   ]
  },
  {
   "cell_type": "markdown",
   "metadata": {},
   "source": [
    "## Classification Results"
   ]
  },
  {
   "cell_type": "markdown",
   "metadata": {},
   "source": [
    "kNN"
   ]
  },
  {
   "cell_type": "code",
   "execution_count": 35,
   "metadata": {},
   "outputs": [
    {
     "name": "stdout",
     "output_type": "stream",
     "text": [
      "[0.15321083 1.32462278 1.50243306 0.378085   2.38641361 0.        ]\n",
      "[2.08347194 5.72765944 2.41719024 2.16314167 8.70394472 3.        ]\n",
      "[1]\n",
      "Test case is a Weekday\n"
     ]
    },
    {
     "name": "stderr",
     "output_type": "stream",
     "text": [
      "/Library/Frameworks/Python.framework/Versions/3.10/lib/python3.10/site-packages/sklearn/base.py:450: UserWarning: X does not have valid feature names, but MinMaxScaler was fitted with feature names\n",
      "  warnings.warn(\n"
     ]
    }
   ],
   "source": [
    "data = sleep_hw_df.drop(columns=['Deep Sleep Percent', 'Light Sleep Percent', 'Nap Count', 'REM Sleep Percent', 'Day of Week'], inplace=False)\n",
    "test_case = [0.4, 4, 2, 0.6, 7, 2]\n",
    "result = u.train_test(data, test_case=test_case, label='Weekday')\n",
    "result_key = {0: \"Test case is a Weekend\", 1: \"Test case is a Weekday\"}\n",
    "print(result_key[result[0]])"
   ]
  },
  {
   "cell_type": "code",
   "execution_count": 36,
   "metadata": {},
   "outputs": [
    {
     "name": "stdout",
     "output_type": "stream",
     "text": [
      "Index(['Deep Sleep', 'Light Sleep', 'Nap Sleep', 'REM Sleep', 'Total Sleep',\n",
      "       'Number of Assignments', 'Day of Week'],\n",
      "      dtype='object')\n",
      "[0.15321083 1.32462278 1.50243306 0.378085   2.38641361 0.        ]\n",
      "[2.08347194 5.72765944 2.41719024 2.16314167 8.70394472 6.        ]\n",
      "[1.]\n",
      "Predicted number of assignments: 1.0\n"
     ]
    },
    {
     "name": "stderr",
     "output_type": "stream",
     "text": [
      "/Library/Frameworks/Python.framework/Versions/3.10/lib/python3.10/site-packages/sklearn/base.py:450: UserWarning: X does not have valid feature names, but MinMaxScaler was fitted with feature names\n",
      "  warnings.warn(\n"
     ]
    }
   ],
   "source": [
    "data = sleep_hw_df.drop(columns=['Deep Sleep Percent', 'Light Sleep Percent', 'Nap Count', 'REM Sleep Percent', 'Weekday'], inplace=False)\n",
    "print(data.columns)\n",
    "test_case = [0.2, 2, 2, 0.3, 4.5, 0]\n",
    "result = u.train_test(data, test_case=test_case, label='Number of Assignments')\n",
    "#result_key = {0: \"Test case is a Weekend\", 1: \"Test case is a Weekday\"}\n",
    "print(f'Predicted number of assignments: {result[0]}')\n"
   ]
  },
  {
   "cell_type": "markdown",
   "metadata": {},
   "source": [
    "Decision Tree"
   ]
  },
  {
   "cell_type": "code",
   "execution_count": 37,
   "metadata": {},
   "outputs": [],
   "source": [
    "# from sklearn.tree import DecisionTreeRegressor\n",
    "# from sklearn.model_selection import train_test_split\n",
    "# from sklearn.preprocessing import MinMaxScaler\n",
    "# scaler = MinMaxScaler()\n",
    "# data = sleep_hw_df.drop(columns=['Deep Sleep Percent', 'Light Sleep Percent', 'Nap Count', 'REM Sleep Percent', 'Day of Week'], inplace=False)\n",
    "# X_train, X_test, y_train, y_test = train_test_split(X, y, test_size=0.3, random_state=1)\n",
    "\n",
    "# plt.figure(figsize=(10, 6))\n",
    "# plt.plot(X_test, \"b\")\n",
    "# plt.scatter(X_train, y_train, c=\"b\", s=20)\n",
    "# plt.plot(X_test, reg_tree_pred, \"g\", lw=2)\n",
    "# plt.xlim([-5, 5])\n",
    "# plt.title(\n",
    "#     \"Decision tree regressor, MSE = %.2f\"\n",
    "#     % (np.sum((y_test - reg_tree_pred) ** 2) / n_test)\n",
    "# )\n",
    "# plt.show()"
   ]
  },
  {
   "cell_type": "markdown",
   "metadata": {},
   "source": [
    "## Conclusion"
   ]
  },
  {
   "cell_type": "markdown",
   "metadata": {},
   "source": [
    "#### Summary"
   ]
  },
  {
   "cell_type": "markdown",
   "metadata": {},
   "source": [
    "#### Classification Techniques"
   ]
  },
  {
   "cell_type": "markdown",
   "metadata": {},
   "source": [
    "The classification approach you developed, your classifiers’ performance, and any ideas you have on ways to improve performance. "
   ]
  },
  {
   "cell_type": "markdown",
   "metadata": {},
   "source": [
    "#### Impact"
   ]
  },
  {
   "cell_type": "markdown",
   "metadata": {},
   "source": [
    "Describe the potential impacts of your work (including ethical impacts) for the stakeholder’s you described in the introduction."
   ]
  }
 ],
 "metadata": {
  "interpreter": {
   "hash": "aee8b7b246df8f9039afb4144a1f6fd8d2ca17a180786b69acc140d282b71a49"
  },
  "kernelspec": {
   "display_name": "Python 3.10.1 64-bit",
   "language": "python",
   "name": "python3"
  },
  "language_info": {
   "codemirror_mode": {
    "name": "ipython",
    "version": 3
   },
   "file_extension": ".py",
   "mimetype": "text/x-python",
   "name": "python",
   "nbconvert_exporter": "python",
   "pygments_lexer": "ipython3",
   "version": "3.10.1"
  },
  "orig_nbformat": 4
 },
 "nbformat": 4,
 "nbformat_minor": 2
}
